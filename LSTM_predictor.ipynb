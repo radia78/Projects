{
  "nbformat": 4,
  "nbformat_minor": 0,
  "metadata": {
    "colab": {
      "name": "LSTM_predictor.ipynb",
      "provenance": [],
      "collapsed_sections": [],
      "authorship_tag": "ABX9TyNh1xEiQpNDnOT0OAuJVFxB",
      "include_colab_link": true
    },
    "kernelspec": {
      "name": "python3",
      "display_name": "Python 3"
    },
    "language_info": {
      "name": "python"
    },
    "gpuClass": "standard"
  },
  "cells": [
    {
      "cell_type": "markdown",
      "metadata": {
        "id": "view-in-github",
        "colab_type": "text"
      },
      "source": [
        "<a href=\"https://colab.research.google.com/github/radia78/Projects/blob/main/LSTM_predictor.ipynb\" target=\"_parent\"><img src=\"https://colab.research.google.com/assets/colab-badge.svg\" alt=\"Open In Colab\"/></a>"
      ]
    },
    {
      "cell_type": "code",
      "source": [
        "# Load-in dataset libraries\n",
        "\n",
        "import pandas_datareader.data as web\n",
        "import pandas as pd\n",
        "import datetime as dt\n",
        "import matplotlib.pyplot as plt\n",
        "import torch\n",
        "from math import trunc\n",
        "import numpy as np\n",
        "from sklearn.preprocessing import MinMaxScaler"
      ],
      "metadata": {
        "id": "mtqLWUafxMKW"
      },
      "execution_count": 2,
      "outputs": []
    },
    {
      "cell_type": "code",
      "source": [
        "# Creating stock data\n",
        "\n",
        "class StockDataset(MinMaxScaler):\n",
        "    def __init__(self, start_date, source, stock, price):\n",
        "        self.data = web.DataReader(\n",
        "            name = stock,\n",
        "            data_source = source,\n",
        "            start = start_date)[price]\n",
        "    \n",
        "    def scale(self,scaler=MinMaxScaler(feature_range=(0,1))):\n",
        "        self.scaled_data = scaler.fit_transform(\n",
        "            np.array(self.data).reshape(-1,1))\n",
        "        \n",
        "        return self.scaled_data\n",
        "    \n",
        "    def create_dataset(self, time_step=1):\n",
        "        dataX, dataY = [], []\n",
        "        \n",
        "        for i in range(len(self.scaled_data)-time_step-1):\n",
        "            a = self.scaled_data[i:(i+time_step), 0]\n",
        "            dataX.append(a)\n",
        "            dataY.append(self.scaled_data[i + time_step, 0])\n",
        "            \n",
        "        dataX = np.array(dataX).reshape(np.array(dataX).shape[0], np.array(dataX).shape[1], 1)\n",
        "            \n",
        "        return dataX, np.array(dataY)"
      ],
      "metadata": {
        "id": "JRLXurRRx0fE"
      },
      "execution_count": 3,
      "outputs": []
    },
    {
      "cell_type": "code",
      "source": [
        "# Stock dataset example\n",
        "\n",
        "stock1 = StockDataset(\n",
        "    start_date = '2010-01-01',\n",
        "    source = 'yahoo',\n",
        "    stock = 'TSLA',\n",
        "    price = 'Close')\n",
        "\n",
        "stock1.scale()\n",
        "X, y = stock1.create_dataset(time_step = 60)\n",
        "\n",
        "print(X.shape)\n",
        "print(y.shape)"
      ],
      "metadata": {
        "colab": {
          "base_uri": "https://localhost:8080/"
        },
        "id": "JVV5tEpmzUEa",
        "outputId": "c7685942-feb6-456f-8e5d-be499b04c084"
      },
      "execution_count": 4,
      "outputs": [
        {
          "output_type": "stream",
          "name": "stdout",
          "text": [
            "(2958, 60, 1)\n",
            "(2958,)\n"
          ]
        }
      ]
    },
    {
      "cell_type": "code",
      "source": [
        "# Create LSTM network architecture\n",
        "\n",
        "from torch import nn\n",
        "\n",
        "class model_LSTM(nn.Module):\n",
        "    def__init__(self):\n",
        "        super(model_LSTM, self).__init__()\n",
        "        \n",
        "        # Defining the Layers\n",
        "        \n",
        "        \n",
        "        "
      ],
      "metadata": {
        "id": "anpa6l_5zXMh"
      },
      "execution_count": null,
      "outputs": []
    }
  ]
}